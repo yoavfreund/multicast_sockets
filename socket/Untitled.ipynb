{
 "cells": [
  {
   "cell_type": "code",
   "execution_count": 3,
   "metadata": {
    "collapsed": false,
    "run_control": {
     "frozen": false,
     "read_only": false
    }
   },
   "outputs": [
    {
     "name": "stdout",
     "output_type": "stream",
     "text": [
      "socket_multicast_receiver.py socket_multicast_sender.py\r\n"
     ]
    }
   ],
   "source": [
    "!ls socket_multicast_*.py"
   ]
  },
  {
   "cell_type": "code",
   "execution_count": 7,
   "metadata": {
    "collapsed": false
   },
   "outputs": [
    {
     "name": "stderr",
     "output_type": "stream",
     "text": [
      "sending \"very important data\"\n",
      "waiting to receive\n",
      "timed out, no more responses\n",
      "closing socket\n"
     ]
    }
   ],
   "source": [
    "# %load socket_multicast_sender.py\n",
    "#!/usr/bin/env python\n",
    "#\n",
    "# Copyright (c) 2010 Doug Hellmann.  All rights reserved.\n",
    "#\n",
    "\"\"\"Sending multicast messages.\n",
    "\"\"\"\n",
    "#end_pymotw_header\n",
    "\n",
    "import socket\n",
    "import struct\n",
    "import sys\n",
    "\n",
    "message = 'very important data'\n",
    "multicast_group = ('224.3.29.71', 10000)\n",
    "\n",
    "# Create the datagram socket\n",
    "sock = socket.socket(socket.AF_INET, socket.SOCK_DGRAM)\n",
    "\n",
    "# Set a timeout so the socket does not block indefinitely when trying\n",
    "# to receive data.\n",
    "sock.settimeout(0.2)\n",
    "\n",
    "# Set the time-to-live for messages to 1 so they do not go past the\n",
    "# local network segment.\n",
    "ttl = struct.pack('b', 1)\n",
    "sock.setsockopt(socket.IPPROTO_IP, socket.IP_MULTICAST_TTL, ttl)\n",
    "\n",
    "try:\n",
    "\n",
    "    # Send data to the multicast group\n",
    "    print >>sys.stderr, 'sending \"%s\"' % message\n",
    "    sent = sock.sendto(message, multicast_group)\n",
    "\n",
    "    # Look for responses from all recipients\n",
    "    while True:\n",
    "        print >>sys.stderr, 'waiting to receive'\n",
    "        try:\n",
    "            data, server = sock.recvfrom(16)\n",
    "        except socket.timeout:\n",
    "            print >>sys.stderr, 'timed out, no more responses'\n",
    "            break\n",
    "        else:\n",
    "            print >>sys.stderr, 'received \"%s\" from %s' % \\\n",
    "                (data, server)\n",
    "\n",
    "finally:\n",
    "    print >>sys.stderr, 'closing socket'\n",
    "    sock.close()"
   ]
  },
  {
   "cell_type": "code",
   "execution_count": 8,
   "metadata": {
    "collapsed": false
   },
   "outputs": [
    {
     "name": "stderr",
     "output_type": "stream",
     "text": [
      "\n",
      "waiting to receive message\n"
     ]
    },
    {
     "ename": "KeyboardInterrupt",
     "evalue": "",
     "output_type": "error",
     "traceback": [
      "\u001b[0;31m---------------------------------------------------------------------------\u001b[0m",
      "\u001b[0;31mKeyboardInterrupt\u001b[0m                         Traceback (most recent call last)",
      "\u001b[0;32m<ipython-input-8-e28308fb9afb>\u001b[0m in \u001b[0;36m<module>\u001b[0;34m()\u001b[0m\n\u001b[1;32m     30\u001b[0m \u001b[0;32mwhile\u001b[0m \u001b[0mTrue\u001b[0m\u001b[0;34m:\u001b[0m\u001b[0;34m\u001b[0m\u001b[0m\n\u001b[1;32m     31\u001b[0m     \u001b[0;32mprint\u001b[0m \u001b[0;34m>>\u001b[0m\u001b[0msys\u001b[0m\u001b[0;34m.\u001b[0m\u001b[0mstderr\u001b[0m\u001b[0;34m,\u001b[0m \u001b[0;34m'\\nwaiting to receive message'\u001b[0m\u001b[0;34m\u001b[0m\u001b[0m\n\u001b[0;32m---> 32\u001b[0;31m     \u001b[0mdata\u001b[0m\u001b[0;34m,\u001b[0m \u001b[0maddress\u001b[0m \u001b[0;34m=\u001b[0m \u001b[0msock\u001b[0m\u001b[0;34m.\u001b[0m\u001b[0mrecvfrom\u001b[0m\u001b[0;34m(\u001b[0m\u001b[0;36m1024\u001b[0m\u001b[0;34m)\u001b[0m\u001b[0;34m\u001b[0m\u001b[0m\n\u001b[0m\u001b[1;32m     33\u001b[0m \u001b[0;34m\u001b[0m\u001b[0m\n\u001b[1;32m     34\u001b[0m     \u001b[0;32mprint\u001b[0m \u001b[0;34m>>\u001b[0m\u001b[0msys\u001b[0m\u001b[0;34m.\u001b[0m\u001b[0mstderr\u001b[0m\u001b[0;34m,\u001b[0m \u001b[0;34m'received %s bytes from %s'\u001b[0m \u001b[0;34m%\u001b[0m         \u001b[0;34m(\u001b[0m\u001b[0mlen\u001b[0m\u001b[0;34m(\u001b[0m\u001b[0mdata\u001b[0m\u001b[0;34m)\u001b[0m\u001b[0;34m,\u001b[0m \u001b[0maddress\u001b[0m\u001b[0;34m)\u001b[0m\u001b[0;34m\u001b[0m\u001b[0m\n",
      "\u001b[0;31mKeyboardInterrupt\u001b[0m: "
     ]
    }
   ],
   "source": [
    "# %load socket_multicast_receiver.py\n",
    "#!/usr/bin/env python\n",
    "#\n",
    "# Copyright (c) 2010 Doug Hellmann.  All rights reserved.\n",
    "#\n",
    "\"\"\"Receive multicast messages.\n",
    "\"\"\"\n",
    "#end_pymotw_header\n",
    "\n",
    "import socket\n",
    "import struct\n",
    "import sys\n",
    "\n",
    "multicast_group = '224.3.29.71'\n",
    "server_address = ('', 10000)\n",
    "\n",
    "# Create the socket\n",
    "sock = socket.socket(socket.AF_INET, socket.SOCK_DGRAM)\n",
    "\n",
    "# Bind to the server address\n",
    "sock.bind(server_address)\n",
    "\n",
    "# Tell the operating system to add the socket to the multicast group\n",
    "# on all interfaces.\n",
    "group = socket.inet_aton(multicast_group)\n",
    "mreq = struct.pack('4sL', group, socket.INADDR_ANY)\n",
    "sock.setsockopt(socket.IPPROTO_IP, socket.IP_ADD_MEMBERSHIP, mreq)\n",
    "\n",
    "# Receive/respond loop\n",
    "while True:\n",
    "    print >>sys.stderr, '\\nwaiting to receive message'\n",
    "    data, address = sock.recvfrom(1024)\n",
    "    \n",
    "    print >>sys.stderr, 'received %s bytes from %s' % \\\n",
    "        (len(data), address)\n",
    "    print >>sys.stderr, data\n",
    "\n",
    "    print >>sys.stderr, 'sending acknowledgement to', address\n",
    "    sock.sendto('ack', address)\n"
   ]
  },
  {
   "cell_type": "code",
   "execution_count": null,
   "metadata": {
    "collapsed": true
   },
   "outputs": [],
   "source": []
  }
 ],
 "metadata": {
  "anaconda-cloud": {},
  "kernelspec": {
   "display_name": "Python [conda root]",
   "language": "python",
   "name": "conda-root-py"
  },
  "language_info": {
   "codemirror_mode": {
    "name": "ipython",
    "version": 2
   },
   "file_extension": ".py",
   "mimetype": "text/x-python",
   "name": "python",
   "nbconvert_exporter": "python",
   "pygments_lexer": "ipython2",
   "version": "2.7.13"
  },
  "toc": {
   "colors": {
    "hover_highlight": "#DAA520",
    "running_highlight": "#FF0000",
    "selected_highlight": "#FFD700"
   },
   "moveMenuLeft": true,
   "nav_menu": {
    "height": "12px",
    "width": "252px"
   },
   "navigate_menu": true,
   "number_sections": true,
   "sideBar": true,
   "threshold": 4,
   "toc_cell": false,
   "toc_section_display": "block",
   "toc_window_display": false
  }
 },
 "nbformat": 4,
 "nbformat_minor": 2
}
